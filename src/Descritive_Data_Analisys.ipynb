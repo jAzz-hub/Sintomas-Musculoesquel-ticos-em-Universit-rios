{
 "cells": [
  {
   "cell_type": "markdown",
   "id": "bf46b70b",
   "metadata": {},
   "source": [
    "### Lendo os dados e importando as bibliotecas "
   ]
  },
  {
   "cell_type": "code",
   "execution_count": null,
   "id": "a86d9404",
   "metadata": {
    "vscode": {
     "languageId": "plaintext"
    }
   },
   "outputs": [],
   "source": []
  },
  {
   "cell_type": "markdown",
   "id": "bf734227",
   "metadata": {},
   "source": [
    "### Criando Distribuição de Frequência por Idade, Raça e Salários"
   ]
  },
  {
   "cell_type": "code",
   "execution_count": null,
   "id": "29312034",
   "metadata": {
    "vscode": {
     "languageId": "plaintext"
    }
   },
   "outputs": [],
   "source": [
    "import pandas as pd\n",
    "import seaborn as sns\n",
    "import matplotlib.pyplot as plt\n",
    "\n",
    "# Supondo que df é o DataFrame com as idades já processadas\n",
    "# Exemplo de criação de df (caso ainda não tenha sido feito):\n",
    "# Idades = df['Idade'].astype(str).apply(lambda x: [x[i:i+2] for i in range(0, len(x), 2)]).explode()\n",
    "# Idades = Idades.astype(int)\n",
    "# df = pd.DataFrame(Idades, columns=['Idade'])\n",
    "\n",
    "# Criar a tabela de frequência absoluta\n",
    "freq_table = df['Idade'].value_counts().sort_index().reset_index()\n",
    "freq_table.columns = ['Idade', 'Frequency']\n",
    "\n",
    "# Calcular a frequência relativa (porcentIdadem)\n",
    "total_pessoas = freq_table['Frequency'].sum()\n",
    "freq_table['PercentIdade'] = (freq_table['Frequency'] / total_pessoas) * 100\n",
    "\n",
    "# Exibir a tabela de frequência com porcentIdadem\n",
    "print(\"Tabela de Frequência com PorcentIdadem:\")\n",
    "print(freq_table)\n",
    "\n",
    "# Gerar o gráfico de barras para as frequências absolutas\n",
    "plt.figure(figsize=(12, 6))\n",
    "sns.barplot(x='Idade', y='Frequency', data=freq_table, color='blue')\n",
    "plt.title('Distribuição de Frequência das Idades (Número de Pessoas)')\n",
    "plt.xlabel('Idade')\n",
    "plt.ylabel('Número de Pessoas')\n",
    "plt.xticks(rotation=90)\n",
    "plt.show()\n",
    "\n",
    "# Gerar o gráfico de barras para as frequências relativas (porcentIdadem)\n",
    "plt.figure(figsize=(12, 6))\n",
    "sns.barplot(x='Idade', y='PercentIdade', data=freq_table, color='green')\n",
    "plt.title('Distribuição de Frequência das Idades (%)')\n",
    "plt.xlabel('Idade')\n",
    "plt.ylabel('Percentual das Idades (%)')\n",
    "plt.xticks(rotation=90)\n",
    "plt.show()"
   ]
  },
  {
   "cell_type": "markdown",
   "id": "24314ff2",
   "metadata": {},
   "source": []
  },
  {
   "cell_type": "code",
   "execution_count": null,
   "id": "eb3ca7ad",
   "metadata": {
    "vscode": {
     "languageId": "plaintext"
    }
   },
   "outputs": [],
   "source": []
  },
  {
   "cell_type": "markdown",
   "id": "7639c481",
   "metadata": {},
   "source": []
  },
  {
   "cell_type": "code",
   "execution_count": null,
   "id": "52f82a0c",
   "metadata": {
    "vscode": {
     "languageId": "plaintext"
    }
   },
   "outputs": [],
   "source": []
  },
  {
   "cell_type": "markdown",
   "id": "a0c34e1f",
   "metadata": {},
   "source": []
  }
 ],
 "metadata": {
  "language_info": {
   "name": "python"
  }
 },
 "nbformat": 4,
 "nbformat_minor": 5
}
