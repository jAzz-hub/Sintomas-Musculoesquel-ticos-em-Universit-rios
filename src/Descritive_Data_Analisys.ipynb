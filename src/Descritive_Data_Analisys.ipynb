{
 "cells": [
  {
   "cell_type": "markdown",
   "id": "bf46b70b",
   "metadata": {},
   "source": [
    "### Lendo os dados e importando as bibliotecas "
   ]
  },
  {
   "cell_type": "code",
   "execution_count": null,
   "id": "a86d9404",
   "metadata": {},
   "outputs": [],
   "source": [
    "from pandas import read_csv\n",
    "import seaborn as sns\n",
    "import matplotlib.pyplot as plt\n",
    "import math\n",
    "import numpy as np\n",
    "import pandas as pd"
   ]
  },
  {
   "cell_type": "code",
   "execution_count": null,
   "id": "69d66af4",
   "metadata": {},
   "outputs": [],
   "source": [
    "df = read_csv('../Data/ReadyToUse2_Sintomas Musculoesqueléticos em Universitários - Respostas ao formulário 1.csv', sep = \",\", encoding = 'latin1', engine = 'python', thousands = '.', decimal = ',')"
   ]
  },
  {
   "cell_type": "code",
   "execution_count": null,
   "id": "d3499026",
   "metadata": {},
   "outputs": [],
   "source": [
    "df.head(2)\n",
    "df.columns"
   ]
  },
  {
   "cell_type": "markdown",
   "id": "bf734227",
   "metadata": {},
   "source": [
    "### Criando Distribuição de Frequência por IDADE"
   ]
  },
  {
   "cell_type": "code",
   "execution_count": null,
   "id": "29312034",
   "metadata": {},
   "outputs": [],
   "source": [
    "\n",
    "\n",
    "# Criar a tabela de frequência absoluta\n",
    "freq_table = df['IDADE'].value_counts().sort_index().reset_index()\n",
    "freq_table.columns = ['IDADE', 'Frequency']\n",
    "\n",
    "# Calcular a frequência relativa (porcentAGEM)\n",
    "total_pessoas = freq_table['Frequency'].sum()\n",
    "freq_table['PercentIDADE'] = (freq_table['Frequency'] / total_pessoas) * 100\n",
    "\n",
    "# Exibir a tabela de frequência\n",
    "print(\"Tabela de Frequência com Percentuais:\")\n",
    "print(freq_table)\n",
    "\n",
    "# Gráfico de frequência absoluta com rótulos\n",
    "plt.figure(figsize=(16, 10))\n",
    "sns.barplot(x='IDADE', y='Frequency', data=freq_table, color='#D3185D')\n",
    "plt.title('Distribuição de Frequência das Idades (Número de Pessoas)')\n",
    "plt.xlabel('Idade')\n",
    "plt.ylabel('Número de Pessoas')\n",
    "plt.xticks(rotation=90)\n",
    "\n",
    "# Adicionando rótulos de valor acima das colunas\n",
    "for index, row in freq_table.iterrows():\n",
    "    plt.text(x=index, y=row['Frequency'] + 0.5, s=int(row['Frequency']), ha='center', va='bottom', fontsize=9)\n",
    "\n",
    "plt.tight_layout()\n",
    "plt.show()\n",
    "\n",
    "# Gráfico de frequência relativa com rótulos de percentual\n",
    "plt.figure(figsize=(16, 10))\n",
    "sns.barplot(x='IDADE', y='PercentIDADE', data=freq_table, color='#D3185D')\n",
    "plt.title('Distribuição de Frequência das Idades (%)')\n",
    "plt.xlabel('Idade')\n",
    "plt.ylabel('Percentual (%)')\n",
    "plt.xticks(rotation=90)\n",
    "\n",
    "# Adicionando rótulos de percentual acima das colunas\n",
    "for index, row in freq_table.iterrows():\n",
    "    plt.text(x=index, y=row['PercentIDADE'] + 0.5, s=f\"{row['PercentIDADE']:.1f}%\", ha='center', va='bottom', fontsize=9)\n",
    "\n",
    "plt.tight_layout()\n",
    "plt.show()\n",
    "\n",
    "\n",
    "n = len(df['IDADE'])\n",
    "k = math.ceil(np.log2(n) + 1)\n",
    "\n",
    "# Criando os bins automaticamente\n",
    "min_idade = min(df['IDADE'])\n",
    "max_idade = max(df['IDADE'])\n",
    "bins = np.linspace(min_idade, max_idade, k + 1)\n",
    "\n",
    "# Labels dinâmicos para os bins\n",
    "labels = [f'{int(bins[i])}-{int(bins[i+1]-1)}' for i in range(len(bins)-1)]\n",
    "\n",
    "# Criando a tabela de frequência\n",
    "faixas_etarias = pd.cut(df['IDADE'], bins=bins, labels=labels, include_lowest=True, right=False)\n",
    "frequencia_absoluta = faixas_etarias.value_counts().sort_index()\n",
    "frequencia_relativa = (frequencia_absoluta / n * 100).round(2)\n",
    "\n",
    "# Montando a tabela\n",
    "tabela_frequencia = pd.DataFrame({\n",
    "    'Faixa Etária': labels,\n",
    "    'Frequência': frequencia_absoluta.values,\n",
    "    'Porcentagem (%)': frequencia_relativa.values\n",
    "})\n",
    "\n",
    "print(tabela_frequencia)\n",
    "\n",
    "# Gráfico de barras com frequência absoluta\n",
    "plt.figure(figsize=(8, 5))\n",
    "frequencia_absoluta.plot(kind='bar', color='lightgreen', edgecolor='black')\n",
    "plt.title('Distribuição de Faixa Etária na Amostra')\n",
    "plt.xlabel('Faixa Etária')\n",
    "plt.ylabel('Frequência Absoluta')\n",
    "plt.xticks(rotation=45)\n",
    "plt.tight_layout()\n",
    "plt.show()\n"
   ]
  },
  {
   "cell_type": "markdown",
   "id": "24314ff2",
   "metadata": {},
   "source": []
  },
  {
   "cell_type": "markdown",
   "id": "7639c481",
   "metadata": {},
   "source": [
    "### Criando Distribuição de Frequência por Curso, Sexo, Estado CIVIL, Raça e Renda"
   ]
  },
  {
   "cell_type": "code",
   "execution_count": null,
   "id": "52f82a0c",
   "metadata": {},
   "outputs": [],
   "source": [
    "import pandas as pd\n",
    "import matplotlib.pyplot as plt\n",
    "import seaborn as sns\n",
    "\n",
    "# Função para gerar tons de rosa\n",
    "def generate_soft_pink_gradient(base_color, n_colors):\n",
    "    base_rgb = tuple(int(base_color.lstrip('#')[i:i+2], 16) for i in (0, 2, 4))\n",
    "    colors = []\n",
    "    for i in range(n_colors):\n",
    "        factor = (i / (n_colors - 1)) ** 0.7\n",
    "        start_color = (240, 120, 160)\n",
    "        interpolated = tuple(int(start_color[j] * (1-factor) + base_rgb[j] * factor) for j in range(3))\n",
    "        colors.append('#%02x%02x%02x' % interpolated)\n",
    "    return colors\n",
    "\n",
    "cor_base = '#c81d5a'\n",
    "\n",
    "variaveis = ['CURSO', 'SEXO', 'ESTADO CIVIL', 'RAÇA/COR DA PELE', 'RENDA FAMILIAR']\n",
    "\n",
    "for var in variaveis:\n",
    "    # Criar e ordenar tabela de frequência\n",
    "    freq_table = df[var].value_counts(dropna=False).reset_index()\n",
    "    freq_table.columns = [var, 'Frequência']\n",
    "    freq_table = freq_table.sort_values('Frequência')  # Ordenar por frequência\n",
    "    \n",
    "    total = freq_table['Frequência'].sum()\n",
    "    freq_table['Percentual (%)'] = (freq_table['Frequência'] / total) * 100\n",
    "\n",
    "    print(f\"\\n📊 Tabela de Frequência - {var}\")\n",
    "    print(freq_table)\n",
    "\n",
    "    # Paleta de cores\n",
    "    n_categorias = len(freq_table)\n",
    "    paleta = generate_soft_pink_gradient(cor_base, n_categorias) if n_categorias > 1 else [cor_base]\n",
    "\n",
    "    # GRÁFICO DE FREQUÊNCIA ABSOLUTA\n",
    "    plt.figure(figsize=(10, 5))\n",
    "    ax = sns.barplot(x=var, y='Frequência', data=freq_table, palette=paleta, order=freq_table[var])\n",
    "    \n",
    "    for p in ax.patches:\n",
    "        height = p.get_height()\n",
    "        ax.text(p.get_x() + p.get_width()/2., height + 0.02*total,\n",
    "                f\"{int(height)}\",\n",
    "                ha=\"center\", va=\"bottom\", fontsize=10)\n",
    "    \n",
    "    plt.title(f'Distribuição de {var} - Contagem', fontsize=14, pad=20)\n",
    "    plt.ylabel('Número de Indivíduos', fontsize=12)\n",
    "    plt.xlabel('')\n",
    "    plt.xticks(rotation=45, ha='right')\n",
    "    plt.grid(axis='y', linestyle='--', alpha=0.7)\n",
    "    plt.ylim(0, max(freq_table['Frequência']) * 1.18)\n",
    "    plt.tight_layout()\n",
    "    plt.show()\n",
    "\n",
    "    # GRÁFICO DE FREQUÊNCIA RELATIVA\n",
    "    plt.figure(figsize=(10, 5))\n",
    "    ax = sns.barplot(x=var, y='Percentual (%)', data=freq_table, palette=paleta, order=freq_table[var])\n",
    "    \n",
    "    for p in ax.patches:\n",
    "        height = p.get_height()\n",
    "        ax.text(p.get_x() + p.get_width()/2., height + 0.5,\n",
    "                f\"{height:.1f}%\",\n",
    "                ha=\"center\", va=\"bottom\", fontsize=10)\n",
    "    \n",
    "    plt.title(f'Distribuição de {var} - Proporção', fontsize=14, pad=20)\n",
    "    plt.ylabel('Percentual (%)', fontsize=12)\n",
    "    plt.xlabel('')\n",
    "    plt.xticks(rotation=45, ha='right')\n",
    "    plt.grid(axis='y', linestyle='--', alpha=0.7)\n",
    "    plt.ylim(0, max(freq_table['Percentual (%)']) * 1.18)\n",
    "    plt.tight_layout()\n",
    "    plt.show()"
   ]
  },
  {
   "cell_type": "markdown",
   "id": "a0c34e1f",
   "metadata": {},
   "source": [
    "### Análise Descritiva sob dados demográficos na amostragem"
   ]
  },
  {
   "cell_type": "code",
   "execution_count": null,
   "id": "70e1ff11",
   "metadata": {},
   "outputs": [],
   "source": [
    "\n",
    "\n",
    "colunas_demograficas = df.columns[:6]\n",
    "\n",
    "for i in colunas_demograficas:\n",
    "    print(f\"{i}\")\n",
    "    print(f\"{df[f'{i}'].value_counts(normalize=True)*100} --- {df[f'{i}'].value_counts()}\")\n",
    "\n",
    "    print(\"\\n\\n\\n\\n\")\n",
    "\n"
   ]
  },
  {
   "cell_type": "markdown",
   "id": "4ca4c52c",
   "metadata": {},
   "source": [
    "### Análise descritiva sob dados sintomáticos e de bem estar na amostragem"
   ]
  },
  {
   "cell_type": "code",
   "execution_count": null,
   "id": "31e45908",
   "metadata": {},
   "outputs": [],
   "source": [
    "\n",
    "colunas_bem_estar_e_sintomas = df.columns[6:]\n",
    "\n",
    "for i in colunas_bem_estar_e_sintomas:\n",
    "    print(f\"{i}\")\n",
    "    print(f\"{df[f'{i}'].value_counts(normalize=True)*100} --- {df[f'{i}'].value_counts()}\")\n",
    "\n"
   ]
  }
 ],
 "metadata": {
  "kernelspec": {
   "display_name": "Python 3",
   "language": "python",
   "name": "python3"
  },
  "language_info": {
   "codemirror_mode": {
    "name": "ipython",
    "version": 3
   },
   "file_extension": ".py",
   "mimetype": "text/x-python",
   "name": "python",
   "nbconvert_exporter": "python",
   "pygments_lexer": "ipython3",
   "version": "3.13.3"
  }
 },
 "nbformat": 4,
 "nbformat_minor": 5
}
